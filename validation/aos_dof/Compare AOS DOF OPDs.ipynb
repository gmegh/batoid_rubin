{
 "cells": [
  {
   "cell_type": "code",
   "execution_count": 1,
   "id": "8ede4fab-dcc5-4ea9-8c9e-a679718a5b45",
   "metadata": {
    "execution": {
     "iopub.execute_input": "2023-01-18T04:25:05.307273Z",
     "iopub.status.busy": "2023-01-18T04:25:05.306379Z",
     "iopub.status.idle": "2023-01-18T04:25:05.346719Z",
     "shell.execute_reply": "2023-01-18T04:25:05.346323Z",
     "shell.execute_reply.started": "2023-01-18T04:25:05.307126Z"
    }
   },
   "outputs": [],
   "source": [
    "%load_ext autoreload\n",
    "%autoreload 2"
   ]
  },
  {
   "cell_type": "code",
   "execution_count": 29,
   "id": "d16f407f-f5d0-4c20-baf4-6f896620459b",
   "metadata": {
    "execution": {
     "iopub.execute_input": "2023-01-18T05:10:29.271611Z",
     "iopub.status.busy": "2023-01-18T05:10:29.270492Z",
     "iopub.status.idle": "2023-01-18T05:10:29.318918Z",
     "shell.execute_reply": "2023-01-18T05:10:29.318544Z",
     "shell.execute_reply.started": "2023-01-18T05:10:29.271559Z"
    },
    "tags": []
   },
   "outputs": [],
   "source": [
    "import yaml\n",
    "\n",
    "import astropy.io.fits as fits\n",
    "import batoid\n",
    "import galsim\n",
    "import ipywidgets\n",
    "import matplotlib.pyplot as plt\n",
    "import numpy as np\n",
    "\n",
    "import batoid_rubin\n",
    "\n",
    "%matplotlib widget"
   ]
  },
  {
   "cell_type": "code",
   "execution_count": 30,
   "id": "aeac8cb6-2d3f-48da-9f7a-2738fd806b29",
   "metadata": {
    "execution": {
     "iopub.execute_input": "2023-01-18T05:10:30.869948Z",
     "iopub.status.busy": "2023-01-18T05:10:30.868841Z",
     "iopub.status.idle": "2023-01-18T05:10:30.901106Z",
     "shell.execute_reply": "2023-01-18T05:10:30.900606Z",
     "shell.execute_reply.started": "2023-01-18T05:10:30.869892Z"
    },
    "tags": []
   },
   "outputs": [],
   "source": [
    "def colorbar(mappable):\n",
    "    from mpl_toolkits.axes_grid1 import make_axes_locatable\n",
    "    import matplotlib.pyplot as plt\n",
    "    last_axes = plt.gca()\n",
    "    ax = mappable.axes\n",
    "    fig = ax.figure\n",
    "    divider = make_axes_locatable(ax)\n",
    "    cax = divider.append_axes(\"right\", size=\"5%\", pad=0.05)\n",
    "    cbar = fig.colorbar(mappable, cax=cax)\n",
    "    plt.sca(last_axes)\n",
    "    return cbar"
   ]
  },
  {
   "cell_type": "code",
   "execution_count": 44,
   "id": "defc9cd0-4158-4ba4-bd6b-13a429ef3cec",
   "metadata": {
    "execution": {
     "iopub.execute_input": "2023-01-18T05:16:01.126335Z",
     "iopub.status.busy": "2023-01-18T05:16:01.124774Z",
     "iopub.status.idle": "2023-01-18T05:16:01.158760Z",
     "shell.execute_reply": "2023-01-18T05:16:01.158241Z",
     "shell.execute_reply.started": "2023-01-18T05:16:01.126264Z"
    },
    "tags": []
   },
   "outputs": [],
   "source": [
    "def ptt(arr, eps=0.0):\n",
    "    x = np.linspace(0, 2, arr.shape[0])\n",
    "    y = np.linspace(0, 2, arr.shape[1])\n",
    "    x, y = np.meshgrid(x, y)\n",
    "    x -= np.mean(x)\n",
    "    y -= np.mean(y)\n",
    "    w = ~arr.mask\n",
    "    \n",
    "    zbasis = galsim.zernike.zernikeBasis(\n",
    "        3, x[w], y[w], R_inner=eps, R_outer=1.0\n",
    "    )\n",
    "    coefs, *_ = np.linalg.lstsq(zbasis.T, arr[w], rcond=None)\n",
    "    arr = arr - galsim.zernike.Zernike(\n",
    "        coefs[:4], R_inner=eps, R_outer=1.0\n",
    "    )(x, y)\n",
    "    return arr"
   ]
  },
  {
   "cell_type": "code",
   "execution_count": 38,
   "id": "ab533ed4-0744-41cc-adfd-7c5e8bb379c1",
   "metadata": {
    "execution": {
     "iopub.execute_input": "2023-01-18T05:11:10.433155Z",
     "iopub.status.busy": "2023-01-18T05:11:10.432100Z",
     "iopub.status.idle": "2023-01-18T05:11:10.468858Z",
     "shell.execute_reply": "2023-01-18T05:11:10.468298Z",
     "shell.execute_reply.started": "2023-01-18T05:11:10.433090Z"
    },
    "tags": []
   },
   "outputs": [],
   "source": [
    "# Read field XY\n",
    "with open(\"fieldXY.yaml\") as f:\n",
    "    data = yaml.safe_load(f)\n",
    "field_x = np.array(data['x'])\n",
    "field_y = np.array(data['y'])"
   ]
  },
  {
   "cell_type": "code",
   "execution_count": 39,
   "id": "d35c54b6-64fc-4b1f-97d2-67e8399fc5d3",
   "metadata": {
    "execution": {
     "iopub.execute_input": "2023-01-18T05:11:10.595857Z",
     "iopub.status.busy": "2023-01-18T05:11:10.595419Z",
     "iopub.status.idle": "2023-01-18T05:11:10.644817Z",
     "shell.execute_reply": "2023-01-18T05:11:10.644446Z",
     "shell.execute_reply.started": "2023-01-18T05:11:10.595828Z"
    },
    "tags": []
   },
   "outputs": [],
   "source": [
    "fiducial = batoid.Optic.fromYaml(\"LSST_g_500.yaml\")\n",
    "wavelength = 500e-9"
   ]
  },
  {
   "cell_type": "code",
   "execution_count": 45,
   "id": "5ffbe541-d482-4257-bedf-6068a1a39849",
   "metadata": {
    "execution": {
     "iopub.execute_input": "2023-01-18T05:16:05.575092Z",
     "iopub.status.busy": "2023-01-18T05:16:05.574080Z",
     "iopub.status.idle": "2023-01-18T05:16:05.840084Z",
     "shell.execute_reply": "2023-01-18T05:16:05.839743Z",
     "shell.execute_reply.started": "2023-01-18T05:16:05.575031Z"
    },
    "tags": []
   },
   "outputs": [
    {
     "data": {
      "application/vnd.jupyter.widget-view+json": {
       "model_id": "12f0edad99684d74ac91c66edb12445e",
       "version_major": 2,
       "version_minor": 0
      },
      "text/plain": [
       "interactive(children=(BoundedIntText(value=10, description='imode', max=49), BoundedIntText(value=0, descripti…"
      ]
     },
     "metadata": {},
     "output_type": "display_data"
    }
   ],
   "source": [
    "@ipywidgets.interact(\n",
    "    imode=ipywidgets.BoundedIntText(value=10, min=0, max=49),\n",
    "    ifield=ipywidgets.BoundedIntText(value=0, min=0, max=34),\n",
    "    doptt=ipywidgets.Checkbox()\n",
    ")\n",
    "def f(imode, ifield, doptt):\n",
    "    ts_phosim_opd = fits.getdata(f\"phosim/opd_aos_dof_mode_{imode}_field_{ifield}.fits.gz\")\n",
    "    ts_phosim_opd0 = fits.getdata(f\"../nominal/phosim/opd_nominal_field_{ifield}.fits.gz\")\n",
    "    ts_phosim_opd -= ts_phosim_opd0\n",
    "    ts_phosim_opd = np.ma.masked_array(\n",
    "        ts_phosim_opd, mask=ts_phosim_opd==0.0\n",
    "    )\n",
    "    \n",
    "    # Perturb telescope\n",
    "    builder = batoid_rubin.LSSTBuilder(fiducial, bend_dir=\"/Users/josh/src/batoid_rubin/scripts/bend_legacy/\", fea_dir=\"/Users/josh/src/batoid_rubin/scripts/fea/\")\n",
    "    builder.dof[imode] = 1.0\n",
    "    telescope = builder.build()\n",
    "    \n",
    "    # Convert from batoid -> phosim.\n",
    "    # Implies flipping input theta_x and fliplr the output image\n",
    "    batoid_opd = batoid.wavefront(\n",
    "        telescope,\n",
    "        -np.deg2rad(field_x[ifield]),\n",
    "        np.deg2rad(field_y[ifield]),\n",
    "        wavelength, nx=255, \n",
    "    ).array\n",
    "    batoid_opd0 = batoid.wavefront(\n",
    "        fiducial,\n",
    "        -np.deg2rad(field_x[ifield]),\n",
    "        np.deg2rad(field_y[ifield]),\n",
    "        wavelength, nx=255, \n",
    "    ).array\n",
    "    mask = batoid_opd.mask\n",
    "    batoid_opd = np.fliplr(batoid_opd - batoid_opd0)\n",
    "    # batoid in waves => microns\n",
    "    batoid_opd *= wavelength*1e6\n",
    "    \n",
    "    if doptt:\n",
    "        batoid_opd = ptt(batoid_opd, 0.61)\n",
    "        ts_phosim_opd = ptt(ts_phosim_opd, 0.61)\n",
    "    \n",
    "    vmax = np.quantile(np.abs(batoid_opd[~mask]), 0.99)    \n",
    "    fig, axes = plt.subplots(ncols=3, figsize=(8, 3))\n",
    "    colorbar(axes[0].imshow(ts_phosim_opd, vmin=-vmax, vmax=vmax, cmap='seismic'))\n",
    "    axes[0].set_title(\"ts_phosim\")\n",
    "\n",
    "    colorbar(axes[1].imshow(batoid_opd, vmin=-vmax, vmax=vmax, cmap='seismic'))\n",
    "    axes[1].set_title(\"batoid\")\n",
    "    \n",
    "    colorbar(axes[2].imshow(batoid_opd - ts_phosim_opd, vmin=-0.01*vmax, vmax=0.01*vmax, cmap='seismic'))\n",
    "    axes[2].set_title(\"b - ph\")\n",
    "\n",
    "    for ax in axes:\n",
    "        ax.set_aspect('equal')\n",
    "    fig.tight_layout()\n",
    "    plt.show()"
   ]
  },
  {
   "cell_type": "code",
   "execution_count": null,
   "id": "1814d31e-4cea-42b0-9038-8e4f09c413b4",
   "metadata": {},
   "outputs": [],
   "source": []
  }
 ],
 "metadata": {
  "kernelspec": {
   "display_name": "Python 3 (ipykernel)",
   "language": "python",
   "name": "python3"
  },
  "language_info": {
   "codemirror_mode": {
    "name": "ipython",
    "version": 3
   },
   "file_extension": ".py",
   "mimetype": "text/x-python",
   "name": "python",
   "nbconvert_exporter": "python",
   "pygments_lexer": "ipython3",
   "version": "3.10.5"
  }
 },
 "nbformat": 4,
 "nbformat_minor": 5
}
