{
 "cells": [
  {
   "cell_type": "code",
   "execution_count": null,
   "id": "d82e4441-a583-41ea-ab1f-c5b284166342",
   "metadata": {
    "tags": []
   },
   "outputs": [],
   "source": [
    "%load_ext autoreload\n",
    "%autoreload 2"
   ]
  },
  {
   "cell_type": "code",
   "execution_count": null,
   "id": "d16f407f-f5d0-4c20-baf4-6f896620459b",
   "metadata": {
    "tags": []
   },
   "outputs": [],
   "source": [
    "import yaml\n",
    "\n",
    "import astropy.io.fits as fits\n",
    "import batoid\n",
    "import galsim\n",
    "import ipywidgets\n",
    "import matplotlib.pyplot as plt\n",
    "import numpy as np\n",
    "\n",
    "import batoid_rubin\n",
    "\n",
    "%matplotlib widget"
   ]
  },
  {
   "cell_type": "code",
   "execution_count": null,
   "id": "aeac8cb6-2d3f-48da-9f7a-2738fd806b29",
   "metadata": {
    "tags": []
   },
   "outputs": [],
   "source": [
    "def colorbar(mappable):\n",
    "    from mpl_toolkits.axes_grid1 import make_axes_locatable\n",
    "    import matplotlib.pyplot as plt\n",
    "    last_axes = plt.gca()\n",
    "    ax = mappable.axes\n",
    "    fig = ax.figure\n",
    "    divider = make_axes_locatable(ax)\n",
    "    cax = divider.append_axes(\"right\", size=\"5%\", pad=0.05)\n",
    "    cbar = fig.colorbar(mappable, cax=cax)\n",
    "    plt.sca(last_axes)\n",
    "    return cbar"
   ]
  },
  {
   "cell_type": "code",
   "execution_count": null,
   "id": "8092eba0-8d9d-498b-b994-207d6567d346",
   "metadata": {
    "tags": []
   },
   "outputs": [],
   "source": [
    "def ptt(arr, eps=0.0):\n",
    "    x = np.linspace(0, 2, arr.shape[0])\n",
    "    y = np.linspace(0, 2, arr.shape[1])\n",
    "    x, y = np.meshgrid(x, y)\n",
    "    x -= np.mean(x)\n",
    "    y -= np.mean(y)\n",
    "    w = ~arr.mask\n",
    "    \n",
    "    zbasis = galsim.zernike.zernikeBasis(\n",
    "        3, x[w], y[w], R_inner=eps, R_outer=1.0\n",
    "    )\n",
    "    coefs, *_ = np.linalg.lstsq(zbasis.T, arr[w], rcond=None)\n",
    "    arr = arr - galsim.zernike.Zernike(\n",
    "        coefs[:4], R_inner=eps, R_outer=1.0\n",
    "    )(x, y)\n",
    "    return arr"
   ]
  },
  {
   "cell_type": "code",
   "execution_count": null,
   "id": "ab533ed4-0744-41cc-adfd-7c5e8bb379c1",
   "metadata": {
    "tags": []
   },
   "outputs": [],
   "source": [
    "# Read field XY\n",
    "with open(\"fieldXY.yaml\") as f:\n",
    "    data = yaml.safe_load(f)\n",
    "field_x = np.array(data['x'])\n",
    "field_y = np.array(data['y'])"
   ]
  },
  {
   "cell_type": "code",
   "execution_count": null,
   "id": "d35c54b6-64fc-4b1f-97d2-67e8399fc5d3",
   "metadata": {
    "tags": []
   },
   "outputs": [],
   "source": [
    "fiducial = batoid.Optic.fromYaml(\"LSST_g_500.yaml\")\n",
    "wavelength = 500e-9"
   ]
  },
  {
   "cell_type": "code",
   "execution_count": null,
   "id": "5ffbe541-d482-4257-bedf-6068a1a39849",
   "metadata": {
    "tags": []
   },
   "outputs": [],
   "source": [
    "@ipywidgets.interact(    \n",
    "    zr=ipywidgets.Dropdown(\n",
    "        options=[\n",
    "            \"0, 0, False\",\n",
    "            \"0, 0, True\",\n",
    "            \"45, 0, False\",\n",
    "            \"45, 45, False\",\n",
    "            \"30, -30, False\",\n",
    "            \"30, -30, True\"\n",
    "        ],\n",
    "        index=0,\n",
    "    ),\n",
    "    subsys=ipywidgets.Dropdown(\n",
    "        options=['M1M3', 'M2', 'Cam', 'All'], index=0\n",
    "    ),\n",
    "    ifield=ipywidgets.BoundedIntText(value=0, min=0, max=34),\n",
    "    scale=ipywidgets.BoundedFloatText(value=0, min=-10, max=10),\n",
    "    dscale=ipywidgets.BoundedFloatText(value=0, min=-6, max=6),\n",
    "    doptt=ipywidgets.Checkbox()\n",
    ")\n",
    "def f(zr, subsys, ifield, scale, dscale, doptt):\n",
    "    zenith_angle, rotation_angle, doT = zr.replace(\",\", \"\").split()\n",
    "    zenith_angle = int(zenith_angle)\n",
    "    rotation_angle = int(rotation_angle)\n",
    "    doT = doT == \"True\"\n",
    "    name = f\"z{zenith_angle}_r{rotation_angle}_T_{doT}_{subsys}\"\n",
    "\n",
    "    ts_phosim_opd = fits.getdata(f\"phosim/{name}/opd_{name}_{ifield}.fits.gz\")\n",
    "    ts_phosim_opd0 = fits.getdata(f\"../nominal/phosim/opd_nominal_field_{ifield}.fits.gz\")\n",
    "    mask = ts_phosim_opd == 0.0\n",
    "    ts_phosim_opd = np.ma.masked_array(ts_phosim_opd-ts_phosim_opd0, mask=ts_phosim_opd==0.0)\n",
    "    \n",
    "    builder = batoid_rubin.LSSTBuilder(\n",
    "        fiducial, \n",
    "        fea_dir=\"/Users/josh/src/batoid_rubin/scripts/fea/\", \n",
    "        bend_dir=\"/Users/josh/src/batoid_rubin/scripts/bend_legacy/\"\n",
    "    )\n",
    "    if subsys in ['M1M3', 'All']:\n",
    "        builder = (\n",
    "            builder\n",
    "            .with_m1m3_gravity(np.deg2rad(zenith_angle))\n",
    "            .with_m1m3_lut(np.deg2rad(zenith_angle))\n",
    "        )\n",
    "        if doT:\n",
    "            builder = builder.with_m1m3_temperature(\n",
    "                m1m3_TBulk=0.0902, \n",
    "                m1m3_TxGrad=-0.0894,\n",
    "                m1m3_TyGrad=-0.1973,\n",
    "                m1m3_TzGrad=-0.0316,\n",
    "                m1m3_TrGrad=0.0187\n",
    "            )\n",
    "    if subsys in ['M2', 'All']:\n",
    "        builder = builder.with_m2_gravity(np.deg2rad(zenith_angle))\n",
    "        if doT:\n",
    "            builder = builder.with_m2_temperature(\n",
    "                m2_TzGrad=-0.0675,\n",
    "                m2_TrGrad=-0.1416\n",
    "            )\n",
    "    if subsys in ['Cam', 'All']:\n",
    "        builder = (\n",
    "            builder\n",
    "            .with_camera_gravity(\n",
    "                np.deg2rad(zenith_angle),\n",
    "                np.deg2rad(rotation_angle)\n",
    "            )\n",
    "            .with_camera_temperature(camera_TBulk=6.5650)\n",
    "        )\n",
    "    telescope = builder.build()\n",
    "\n",
    "    # Convert from batoid -> phosim.\n",
    "    # Implies flipping input theta_x and fliplr the output image\n",
    "    batoid_opd = batoid.wavefront(\n",
    "        telescope,\n",
    "        -np.deg2rad(field_x[ifield]),\n",
    "        np.deg2rad(field_y[ifield]),\n",
    "        wavelength, nx=255, \n",
    "    ).array\n",
    "    batoid_opd0 = batoid.wavefront(\n",
    "        fiducial,\n",
    "        -np.deg2rad(field_x[ifield]),\n",
    "        np.deg2rad(field_y[ifield]),\n",
    "        wavelength, nx=255, \n",
    "    ).array\n",
    "    batoid_opd -= batoid_opd0\n",
    "    batoid_opd *= -1\n",
    "    batoid_opd = np.fliplr(batoid_opd)\n",
    "    # batoid in waves => microns\n",
    "    batoid_opd *= wavelength*1e6\n",
    "\n",
    "    if doptt:\n",
    "        batoid_opd = ptt(batoid_opd, 0.61)\n",
    "        ts_phosim_opd = ptt(ts_phosim_opd, 0.61)\n",
    "    \n",
    "    vmax = np.quantile(np.abs(batoid_opd[~batoid_opd.mask]), 0.99)\n",
    "    vmax *= 2**scale\n",
    "    fig, axes = plt.subplots(ncols=3, figsize=(8, 3), sharex=True, sharey=True)\n",
    "    colorbar(axes[0].imshow(ts_phosim_opd, vmin=-vmax, vmax=vmax, cmap='seismic'))\n",
    "    axes[0].set_title(\"ts_phosim\")\n",
    "\n",
    "    colorbar(axes[1].imshow(batoid_opd, vmin=-vmax, vmax=vmax, cmap='seismic'))\n",
    "    axes[1].set_title(\"batoid\")\n",
    "    \n",
    "    vmax *= 2**dscale\n",
    "    colorbar(axes[2].imshow(batoid_opd - ts_phosim_opd, vmin=-0.01*vmax, vmax=0.01*vmax, cmap='seismic'))\n",
    "    axes[2].set_title(\"b - ph\")\n",
    "\n",
    "    for ax in axes:\n",
    "        ax.set_aspect('equal')\n",
    "    fig.tight_layout()\n",
    "    plt.show()"
   ]
  },
  {
   "cell_type": "code",
   "execution_count": null,
   "id": "1814d31e-4cea-42b0-9038-8e4f09c413b4",
   "metadata": {},
   "outputs": [],
   "source": []
  }
 ],
 "metadata": {
  "kernelspec": {
   "display_name": "Python 3 (ipykernel)",
   "language": "python",
   "name": "python3"
  },
  "language_info": {
   "codemirror_mode": {
    "name": "ipython",
    "version": 3
   },
   "file_extension": ".py",
   "mimetype": "text/x-python",
   "name": "python",
   "nbconvert_exporter": "python",
   "pygments_lexer": "ipython3",
   "version": "3.10.5"
  }
 },
 "nbformat": 4,
 "nbformat_minor": 5
}
