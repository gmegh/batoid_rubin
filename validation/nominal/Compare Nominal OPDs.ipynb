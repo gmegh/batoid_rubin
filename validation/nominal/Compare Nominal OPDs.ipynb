{
 "cells": [
  {
   "cell_type": "code",
   "execution_count": null,
   "id": "d16f407f-f5d0-4c20-baf4-6f896620459b",
   "metadata": {
    "tags": []
   },
   "outputs": [],
   "source": [
    "import matplotlib.pyplot as plt\n",
    "import numpy as np\n",
    "import astropy.io.fits as fits\n",
    "import ipywidgets\n",
    "import yaml\n",
    "\n",
    "import batoid\n",
    "import batoid_rubin\n",
    "\n",
    "%matplotlib widget"
   ]
  },
  {
   "cell_type": "code",
   "execution_count": null,
   "id": "aeac8cb6-2d3f-48da-9f7a-2738fd806b29",
   "metadata": {},
   "outputs": [],
   "source": [
    "def colorbar(mappable):\n",
    "    from mpl_toolkits.axes_grid1 import make_axes_locatable\n",
    "    import matplotlib.pyplot as plt\n",
    "    last_axes = plt.gca()\n",
    "    ax = mappable.axes\n",
    "    fig = ax.figure\n",
    "    divider = make_axes_locatable(ax)\n",
    "    cax = divider.append_axes(\"right\", size=\"5%\", pad=0.05)\n",
    "    cbar = fig.colorbar(mappable, cax=cax)\n",
    "    plt.sca(last_axes)\n",
    "    return cbar"
   ]
  },
  {
   "cell_type": "code",
   "execution_count": null,
   "id": "ab533ed4-0744-41cc-adfd-7c5e8bb379c1",
   "metadata": {
    "tags": []
   },
   "outputs": [],
   "source": [
    "# Read field XY\n",
    "with open(\"fieldXY.yaml\") as f:\n",
    "    data = yaml.safe_load(f)\n",
    "field_x = np.array(data['x'])\n",
    "field_y = np.array(data['y'])"
   ]
  },
  {
   "cell_type": "code",
   "execution_count": null,
   "id": "d35c54b6-64fc-4b1f-97d2-67e8399fc5d3",
   "metadata": {
    "tags": []
   },
   "outputs": [],
   "source": [
    "telescope = batoid.Optic.fromYaml(\"LSST_g_500.yaml\")\n",
    "wavelength = 500e-9"
   ]
  },
  {
   "cell_type": "code",
   "execution_count": null,
   "id": "5ffbe541-d482-4257-bedf-6068a1a39849",
   "metadata": {
    "tags": []
   },
   "outputs": [],
   "source": [
    "@ipywidgets.interact(\n",
    "     i=ipywidgets.BoundedIntText(value=0, min=0, max=34)\n",
    ")\n",
    "def f(i):\n",
    "    ts_phosim_opd = fits.getdata(f\"phosim/opd_nominal_field_{i}.fits.gz\")\n",
    "    \n",
    "    # Convert from batoid -> phosim.\n",
    "    # Implies flipping input theta_x and fliplr the output image\n",
    "    batoid_opd = batoid.wavefront(\n",
    "        telescope,\n",
    "        -np.deg2rad(field_x[i]),\n",
    "        np.deg2rad(field_y[i]),\n",
    "        wavelength, nx=255, \n",
    "    )\n",
    "    batoid_opd.array = np.fliplr(batoid_opd.array)\n",
    "    # batoid in waves => microns\n",
    "    batoid_opd.array *= wavelength*1e6\n",
    "    \n",
    "    vmax = np.quantile(np.abs(batoid_opd.array), 0.9)\n",
    "    \n",
    "    fig, axes = plt.subplots(ncols=3, figsize=(8, 3))\n",
    "    colorbar(axes[0].imshow(ts_phosim_opd, vmin=-vmax, vmax=vmax, cmap='seismic'))\n",
    "    axes[0].set_title(\"ts_phosim\")\n",
    "\n",
    "    colorbar(axes[1].imshow(batoid_opd.array, vmin=-vmax, vmax=vmax, cmap='seismic'))\n",
    "    axes[1].set_title(\"batoid\")\n",
    "    \n",
    "    colorbar(axes[2].imshow(batoid_opd.array - ts_phosim_opd, vmin=-0.01*vmax, vmax=0.01*vmax, cmap='seismic'))\n",
    "    axes[2].set_title(\"b - ph\")\n",
    "\n",
    "    for ax in axes:\n",
    "        ax.set_aspect('equal')\n",
    "    fig.tight_layout()\n",
    "    plt.show()"
   ]
  },
  {
   "cell_type": "code",
   "execution_count": null,
   "id": "1814d31e-4cea-42b0-9038-8e4f09c413b4",
   "metadata": {},
   "outputs": [],
   "source": []
  }
 ],
 "metadata": {
  "kernelspec": {
   "display_name": "Python 3 (ipykernel)",
   "language": "python",
   "name": "python3"
  },
  "language_info": {
   "codemirror_mode": {
    "name": "ipython",
    "version": 3
   },
   "file_extension": ".py",
   "mimetype": "text/x-python",
   "name": "python",
   "nbconvert_exporter": "python",
   "pygments_lexer": "ipython3",
   "version": "3.10.5"
  }
 },
 "nbformat": 4,
 "nbformat_minor": 5
}
