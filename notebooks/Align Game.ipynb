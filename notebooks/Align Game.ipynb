{
 "cells": [
  {
   "cell_type": "code",
   "execution_count": null,
   "id": "77b8841e-7fea-44de-a7c7-1e7b2d177b76",
   "metadata": {
    "tags": []
   },
   "outputs": [],
   "source": [
    "%load_ext autoreload\n",
    "%autoreload 2\n",
    "\n",
    "%matplotlib widget"
   ]
  },
  {
   "cell_type": "code",
   "execution_count": null,
   "id": "81d8c45e-12d4-4c83-a4e8-aafc233ce757",
   "metadata": {
    "tags": []
   },
   "outputs": [],
   "source": [
    "import batoid_rubin"
   ]
  },
  {
   "cell_type": "code",
   "execution_count": null,
   "id": "9ccffac6-6c79-4cec-8997-18a0a2b334b0",
   "metadata": {
    "tags": []
   },
   "outputs": [],
   "source": [
    "app = batoid_rubin.align_game.AlignGame()\n",
    "app.display()"
   ]
  },
  {
   "cell_type": "code",
   "execution_count": null,
   "id": "b51e2fd4",
   "metadata": {},
   "outputs": [],
   "source": []
  }
 ],
 "metadata": {
  "kernelspec": {
   "display_name": "Python 3 (ipykernel)",
   "language": "python",
   "name": "python3"
  },
  "language_info": {
   "codemirror_mode": {
    "name": "ipython",
    "version": 3
   },
   "file_extension": ".py",
   "mimetype": "text/x-python",
   "name": "python",
   "nbconvert_exporter": "python",
   "pygments_lexer": "ipython3",
   "version": "3.10.5"
  },
  "vscode": {
   "interpreter": {
    "hash": "31c3fdddfa735b7c072849cfefe0f69bf2b4b9260bc44902e7f5d2c2677b6360"
   }
  }
 },
 "nbformat": 4,
 "nbformat_minor": 5
}
